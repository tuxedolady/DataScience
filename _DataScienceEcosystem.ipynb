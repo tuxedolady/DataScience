{
 "cells": [
  {
   "cell_type": "markdown",
   "id": "bbcccb9b-ef7f-4c72-8615-fda194c33e62",
   "metadata": {},
   "source": [
    "# Data Science Tools and Ecosystem"
   ]
  },
  {
   "cell_type": "markdown",
   "id": "5ccb227a-9bfc-4a09-9845-bfa3114fe1a7",
   "metadata": {},
   "source": [
    "In this notebook, Data Science Tools and Ecosystem are summarized."
   ]
  },
  {
   "cell_type": "markdown",
   "id": "6bcf34c7-f940-434e-9ac8-e9b2393010df",
   "metadata": {},
   "source": [
    "**objectives**\n",
    "- List popular languages for Data Science\n",
    "  - Some of the commonly used libraries\n",
    "    -  development environment open source tools used in data science\n",
    "       -  evaluating arithmetic expressions in Python\n"
   ]
  },
  {
   "cell_type": "markdown",
   "id": "1360d549-7c4f-4e0e-a6b1-b49b599690c9",
   "metadata": {},
   "source": [
    "Some of the popular languages that Data Scientists use are:\n",
    "1. Phyton\n",
    "2. R\n",
    "3. Git"
   ]
  },
  {
   "cell_type": "markdown",
   "id": "d57c3097-d0f0-4eeb-b972-aa051e03ccd4",
   "metadata": {},
   "source": [
    "Some of the commonly used libraries used by Data Scientists include:\n",
    "\n",
    "1. Pandas\n",
    "2. SciPy\n",
    "3. Ggplot2\n",
    "4. Numpy\n",
    "5. Matplotlib\n",
    "\n"
   ]
  },
  {
   "cell_type": "markdown",
   "id": "5c7f9ade-097f-4877-a974-c098debd80c2",
   "metadata": {
    "tags": []
   },
   "source": [
    "| Data Science Tools |\n",
    "|----------|\n",
    "| Jupyter Notebooks | \n",
    "| R studio | \n",
    "| Visual Studio Code|\n"
   ]
  },
  {
   "cell_type": "markdown",
   "id": "de8ce371-f24a-4cfd-8f5f-9917321591af",
   "metadata": {
    "tags": []
   },
   "source": [
    "### Below are a few examples of evaluating arithmetic expressions in Python ###"
   ]
  },
  {
   "cell_type": "code",
   "execution_count": 8,
   "id": "4f83e6b6-afd2-444a-9d56-b5f642210059",
   "metadata": {
    "tags": []
   },
   "outputs": [
    {
     "data": {
      "text/plain": [
       "17"
      ]
     },
     "execution_count": 8,
     "metadata": {},
     "output_type": "execute_result"
    }
   ],
   "source": [
    "# This is a simple arithmetic expression to multiply 3 by 4 and then add 5\n",
    "result = (3 * 4) + 5\n",
    "result  # Print the result \n"
   ]
  },
  {
   "cell_type": "code",
   "execution_count": 13,
   "id": "522c90b4-3352-49dd-9caf-54a841430c83",
   "metadata": {
    "tags": []
   },
   "outputs": [
    {
     "data": {
      "text/plain": [
       "3.3333333333333335"
      ]
     },
     "execution_count": 13,
     "metadata": {},
     "output_type": "execute_result"
    }
   ],
   "source": [
    "# This will convert 200 minutes to hours by diving by 60\n",
    "Hours= 200/60\n",
    "hours"
   ]
  },
  {
   "cell_type": "markdown",
   "id": "389be3b7-8d67-4a73-a994-d6f57d23879a",
   "metadata": {},
   "source": [
    "## Author\n",
    "Ailar Esmaeilizadeh"
   ]
  },
  {
   "cell_type": "code",
   "execution_count": null,
   "id": "ea4668a4-52c3-4aa7-9ecb-18023b0cf730",
   "metadata": {},
   "outputs": [],
   "source": []
  }
 ],
 "metadata": {
  "kernelspec": {
   "display_name": "Python",
   "language": "python",
   "name": "conda-env-python-py"
  },
  "language_info": {
   "codemirror_mode": {
    "name": "ipython",
    "version": 3
   },
   "file_extension": ".py",
   "mimetype": "text/x-python",
   "name": "python",
   "nbconvert_exporter": "python",
   "pygments_lexer": "ipython3",
   "version": "3.7.12"
  }
 },
 "nbformat": 4,
 "nbformat_minor": 5
}
